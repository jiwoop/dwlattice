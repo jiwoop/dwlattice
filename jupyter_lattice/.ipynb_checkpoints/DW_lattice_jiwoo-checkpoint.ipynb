{
 "cells": [
  {
   "cell_type": "code",
   "execution_count": 1,
   "id": "3c0c18a7",
   "metadata": {},
   "outputs": [
    {
     "data": {
      "text/plain": [
       "⊗ (generic function with 1 method)"
      ]
     },
     "execution_count": 1,
     "metadata": {},
     "output_type": "execute_result"
    }
   ],
   "source": [
    "using LinearAlgebra\n",
    "using Plots\n",
    "using Measures\n",
    "#using Kronecker\n",
    "⊗(a,b) = kron(a,b)"
   ]
  },
  {
   "cell_type": "code",
   "execution_count": 2,
   "id": "9743f46c",
   "metadata": {},
   "outputs": [],
   "source": [
    "μm = 10^-6; GHz = 1; \n",
    "\n",
    "# Made racetrack_positions and PBC mutable.\n",
    "struct DWLattice\n",
    "    n_racetracks::Int # number of racetracks in the unit cell\n",
    "    racetrack_positions::Vector{Ref{Float64}}\n",
    "    orientations::Vector{Int} # relative orientation of each domain wall;\n",
    "    a::Float64 # lattice constant\n",
    "    γ::Vector{Float64} # damping constant for each oscillator\n",
    "    ω₀::Vector{Float64} # resonant frequency of each DW\n",
    "    PBC::Ref{Bool} # periodic boundary conditions? for k-dependent Hamiltonian?\n",
    "    C::Float64 # Stray-field coupling constant\n",
    "    R₀::Float64 # distance between racetracks at which C was calculated\n",
    "end\n",
    "\n",
    "function init(; racetrack_positions::Vector{Float64}, orientations::Vector{Int},\n",
    "        a::Float64, γ::Vector{Float64}, ω₀::Vector{Float64}, PBC::Bool, C::Float64, R₀::Float64)\n",
    "    return DWLattice(size(racetrack_positions)[1], racetrack_positions, orientations, a, γ, ω₀, PBC, C, R₀);\n",
    "end\n",
    "\n",
    "testSystem = DWLattice(2, [0, 2.5]*μm, [1,-1], 5*μm, [0.1,0.1]*GHz, [10,15]*GHz, true, 10^8, 2.5*μm);"
   ]
  },
  {
   "cell_type": "code",
   "execution_count": 3,
   "id": "3f1ca8fd",
   "metadata": {},
   "outputs": [
    {
     "data": {
      "text/plain": [
       "constructHamiltonian (generic function with 1 method)"
      ]
     },
     "execution_count": 3,
     "metadata": {},
     "output_type": "execute_result"
    }
   ],
   "source": [
    "function HO_Hamiltonian(ω₀::Float64,γ::Float64)\n",
    "    H₀ = [0 1; -ω₀^2 -2*γ]\n",
    "    #display(H₀)\n",
    "    return H₀\n",
    "end\n",
    "\n",
    "function Coupling_Hamiltonian(C::Union{ComplexF64, Float64})\n",
    "    H = [0 0; C 0]; # adds a term dₜ²x₁ = -ω₀²x₁ - 2γdₜx₁ + C*x₂\n",
    "    return H\n",
    "end\n",
    "\n",
    "function constructHamiltonian(system::DWLattice, NNs::Int)\n",
    "    function H(k::Union{ComplexF64,Float64})\n",
    "        H₀ = zeros(ComplexF64,2*system.n_racetracks,2*system.n_racetracks)\n",
    "        # add oscillators on diagonal\n",
    "        for i = 1:system.n_racetracks\n",
    "            ivec = zeros(system.n_racetracks); ivec[i] = 1;\n",
    "            H₀ += ivec⊗(ivec')⊗HO_Hamiltonian(system.ω₀[i],system.γ[i]) \n",
    "        end\n",
    "        # add coupling between oscillators\n",
    "        for i = 1:system.n_racetracks\n",
    "            for j = ((i-NNs):(i-1))∪((i+1):(i+NNs))\n",
    "                if(j != i)\n",
    "                    j_index = mod(j-1, system.n_racetracks)+1\n",
    "                    dR = (floor((j-1)/system.n_racetracks))*system.a # distance of nth unit cell away\n",
    "                    ΔR = abs((system.racetrack_positions[i])[] - (dR + (system.racetrack_positions[j_index])[])) # distance of nth racetrack\n",
    "                    # make huge approximation here, say that Cij decays with 1/r² from calculated\n",
    "                    # may need minus sign\n",
    "                    Cij = system.orientations[i]*system.orientations[j_index]*system.C*(system.R₀/ΔR)^(2)\n",
    "                    Hindex = zeros(system.n_racetracks,system.n_racetracks); Hindex[i,j_index] = 1\n",
    "                    #println(\"i = $(i), j = $(j), J_index = $(j_index)\")\n",
    "                    if(j < 1 || j > system.n_racetracks)\n",
    "                        if(system.PBC[])\n",
    "                            H₀ += Hindex⊗Coupling_Hamiltonian(Cij*exp(im*k*dR))\n",
    "                            #println(\"k⋅dR/(2π) = $(k*dR/(2*π))\")\n",
    "                        end\n",
    "                    else\n",
    "                        H₀ += Hindex⊗Coupling_Hamiltonian(Cij)\n",
    "                    end\n",
    "                end\n",
    "            end\n",
    "        end\n",
    "        #display(H₀)\n",
    "        return H₀\n",
    "    end\n",
    "    return H\n",
    "end"
   ]
  },
  {
   "cell_type": "code",
   "execution_count": 4,
   "id": "596960e0",
   "metadata": {},
   "outputs": [
    {
     "data": {
      "text/plain": [
       "(::var\"#H#4\"{DWLattice, Int64}) (generic function with 1 method)"
      ]
     },
     "execution_count": 4,
     "metadata": {},
     "output_type": "execute_result"
    }
   ],
   "source": [
    "H_AFM_racetrack = constructHamiltonian(testSystem,2)"
   ]
  },
  {
   "cell_type": "code",
   "execution_count": 5,
   "id": "c73c1ebf",
   "metadata": {},
   "outputs": [
    {
     "data": {
      "text/plain": [
       "getBands (generic function with 2 methods)"
      ]
     },
     "execution_count": 5,
     "metadata": {},
     "output_type": "execute_result"
    }
   ],
   "source": [
    "function plot1DBands(H::Function,system::DWLattice,nk::Int,Broadening::Bool=false, nE::Int = 200, DOS=true)\n",
    "    a = system.a\n",
    "    kvals = LinRange(-π/a,π/a,nk)\n",
    "    ys = []\n",
    "    xs = []\n",
    "    maxE = maximum(imag.(eigvals(H(π/a)) ∪ eigvals(H(0.0))))\n",
    "    if(Broadening)\n",
    "        # get some reasonable maximum for the energies\n",
    "        Evals = LinRange(0,maxE*1.1,nE)\n",
    "        n = 2*system.n_racetracks\n",
    "        bands = zeros(nk,nE)\n",
    "        plottingBands = zeros(nk,nE)\n",
    "        @Threads.threads for ik in eachindex(kvals)\n",
    "            k = kvals[ik]\n",
    "            Hatk = H(k)\n",
    "            DOS_k(E) = (-1/π)imag.(tr(inv(E*I(n) - im*Hatk)))\n",
    "            DOS_k_E = DOS_k.(Evals)\n",
    "            bands[ik,:] = DOS_k_E\n",
    "        end\n",
    "        bands = (1/maximum(bands))*bands\n",
    "        fig = heatmap(kvals*(a/π), Evals, bands', clims=(0,maximum(bands)), xlabel=\"k (π/a)\", ylabel=\"Frequency (GHz)\")\n",
    "    end\n",
    "    @Threads.threads for k in kvals\n",
    "        Es = imag(eigvals(H(k)))\n",
    "        append!(ys,Es/GHz)\n",
    "        append!(xs,k*ones(size(Es)))\n",
    "    end\n",
    "    fig = scatter!(xs*(a/π),ys, legend=false,ylims=(-0.001,maxE*1.1), xlims=(-1,1), c=\"white\", markersize=2.0, markerstrokewidth=0)\n",
    "    if(DOS)\n",
    "        DOS_tot = [sum(bands[:,iE]) for iE = 1:nE]; DOS_tot = (1/maximum(DOS_tot))*DOS_tot\n",
    "        fDOS = plot(DOS_tot,Evals,legend=false,xlabel=\"DOS(ω)\", ylabel=\"Frequency (GHz)\",ylims=(-0.0001,maxE*1.1),xlims=(0,1))\n",
    "    end\n",
    "    fig2 = plot(fig,fDOS,layout=grid(1,2, widths=(5/8,3/8)), size=(800,300),margin=5mm)\n",
    "    return fig2\n",
    "end\n",
    "\n",
    "function getBands(system::DWLattice,NNs::Int,broadening::Bool=false)\n",
    "    H = constructHamiltonian(system,NNs)\n",
    "    fig = plot1DBands(H,system,200,broadening)\n",
    "    #display(fig)\n",
    "end"
   ]
  },
  {
   "cell_type": "code",
   "execution_count": 6,
   "id": "8928b473",
   "metadata": {},
   "outputs": [],
   "source": [
    "#getBands(DWLattice(2, [0, 2.5]*μm, [1,-1], 5*μm, 0.1*[1,1]*GHz, 0*[2.1,2]*GHz, true, 2*GHz, 2.0*μm),1,true);\n",
    "\n",
    "AFM2R_lattice = init(racetrack_positions=[0, 2.6]*μm, orientations=[1,-1], \n",
    "    a=5*μm, γ=0.5*[1,1]*GHz, ω₀=1.0*[9,8]*GHz, PBC=true, C=10.0*GHz, R₀=2.5*μm);\n",
    "\n",
    "AFM3R_lattice = init(racetrack_positions=[0, 2.8, 5.0]*μm, orientations=[1,-1,1], \n",
    "    a=7.5*μm, γ=0.5*[1,0.5,1]*GHz, ω₀=10*[0,2.0,2.1]*GHz, PBC=true, C=400.0*GHz, R₀=2.5*μm);\n",
    "FM1R_lattice = init(racetrack_positions=[0]*μm, orientations=[1], \n",
    "    a=5*μm, γ=0.5*[1]*GHz, ω₀=10*[2.0]*GHz, PBC=true, C=80.0*GHz, R₀=2.5*μm);"
   ]
  },
  {
   "cell_type": "markdown",
   "id": "f4ac1da9-8522-4386-ab0e-c21835a9c1dc",
   "metadata": {},
   "source": [
    "Generate multiple lattice structures.\n",
    "Return a vector of lattices.\n",
    "\n",
    "Unit cells are duplicated, PBC=False"
   ]
  },
  {
   "cell_type": "code",
   "execution_count": 7,
   "id": "9abb7217-3afc-42af-8c8c-2732f75c64f4",
   "metadata": {},
   "outputs": [
    {
     "data": {
      "text/plain": [
       "realSpaceArray (generic function with 1 method)"
      ]
     },
     "execution_count": 7,
     "metadata": {},
     "output_type": "execute_result"
    }
   ],
   "source": [
    "function realSpaceArray(unit_cell::DWLattice, num::Int)\n",
    "    \n",
    "    # Used for duplicating. Dimensions are identical to the input unit cell\n",
    "    dup_lattice = deepcopy(unit_cell)\n",
    "    dup_lattice.PBC[] = false\n",
    "\n",
    "    # Returns a vector of lattices\n",
    "    lattice_arr = DWLattice[]\n",
    "\n",
    "    for i = 0:(num-1)\n",
    "        # racetrack_positions is 1D array\n",
    "        # Starting at 0, because of the indexing\n",
    "        for j = 1:size(unit_cell.racetrack_positions, 1)\n",
    "            new_race = i*unit_cell.a + (unit_cell.racetrack_positions[j])[]\n",
    "            (dup_lattice.racetrack_positions[j])[] = new_race\n",
    "        end\n",
    "        # append dup_lattice to the vector. Deepcopy beforehand.\n",
    "        dummy = deepcopy(dup_lattice)\n",
    "        push!(lattice_arr, dummy)\n",
    "    end\n",
    "\n",
    "    return lattice_arr\n",
    "end"
   ]
  },
  {
   "cell_type": "code",
   "execution_count": 8,
   "id": "792fc1e9-34ca-4f03-8c16-805d2facf953",
   "metadata": {},
   "outputs": [
    {
     "data": {
      "text/plain": [
       "2-element Vector{DWLattice}:\n",
       " DWLattice(2, Ref{Float64}[Base.RefValue{Float64}(0.0), Base.RefValue{Float64}(2.6e-6)], [1, -1], 4.9999999999999996e-6, [0.5, 0.5], [9.0, 8.0], Base.RefValue{Bool}(false), 10.0, 2.4999999999999998e-6)\n",
       " DWLattice(2, Ref{Float64}[Base.RefValue{Float64}(4.9999999999999996e-6), Base.RefValue{Float64}(7.6e-6)], [1, -1], 4.9999999999999996e-6, [0.5, 0.5], [9.0, 8.0], Base.RefValue{Bool}(false), 10.0, 2.4999999999999998e-6)"
      ]
     },
     "execution_count": 8,
     "metadata": {},
     "output_type": "execute_result"
    }
   ],
   "source": [
    "realSpaceArray(AFM2R_lattice, 2)"
   ]
  },
  {
   "cell_type": "code",
   "execution_count": 9,
   "id": "495ae6d3",
   "metadata": {},
   "outputs": [
    {
     "ename": "LoadError",
     "evalue": "MethodError: no method matching +(::Float64, ::Base.RefValue{Float64})\n\n\u001b[0mClosest candidates are:\n\u001b[0m  +(::Any, ::Any, \u001b[91m::Any\u001b[39m, \u001b[91m::Any...\u001b[39m)\n\u001b[0m\u001b[90m   @\u001b[39m \u001b[90mBase\u001b[39m \u001b[90m\u001b[4moperators.jl:578\u001b[24m\u001b[39m\n\u001b[0m  +(::T, \u001b[91m::T\u001b[39m) where T<:Union{Float16, Float32, Float64}\n\u001b[0m\u001b[90m   @\u001b[39m \u001b[90mBase\u001b[39m \u001b[90m\u001b[4mfloat.jl:408\u001b[24m\u001b[39m\n\u001b[0m  +(::Union{Float16, Float32, Float64}, \u001b[91m::BigFloat\u001b[39m)\n\u001b[0m\u001b[90m   @\u001b[39m \u001b[90mBase\u001b[39m \u001b[90m\u001b[4mmpfr.jl:423\u001b[24m\u001b[39m\n\u001b[0m  ...\n",
     "output_type": "error",
     "traceback": [
      "MethodError: no method matching +(::Float64, ::Base.RefValue{Float64})\n\n\u001b[0mClosest candidates are:\n\u001b[0m  +(::Any, ::Any, \u001b[91m::Any\u001b[39m, \u001b[91m::Any...\u001b[39m)\n\u001b[0m\u001b[90m   @\u001b[39m \u001b[90mBase\u001b[39m \u001b[90m\u001b[4moperators.jl:578\u001b[24m\u001b[39m\n\u001b[0m  +(::T, \u001b[91m::T\u001b[39m) where T<:Union{Float16, Float32, Float64}\n\u001b[0m\u001b[90m   @\u001b[39m \u001b[90mBase\u001b[39m \u001b[90m\u001b[4mfloat.jl:408\u001b[24m\u001b[39m\n\u001b[0m  +(::Union{Float16, Float32, Float64}, \u001b[91m::BigFloat\u001b[39m)\n\u001b[0m\u001b[90m   @\u001b[39m \u001b[90mBase\u001b[39m \u001b[90m\u001b[4mmpfr.jl:423\u001b[24m\u001b[39m\n\u001b[0m  ...\n",
      "",
      "Stacktrace:",
      " [1] (::var\"#H#4\"{DWLattice, Int64})(k::Float64)",
      "   @ Main ./In[3]:26",
      " [2] plot1DBands(H::var\"#H#4\"{DWLattice, Int64}, system::DWLattice, nk::Int64, Broadening::Bool, nE::Int64, DOS::Bool)",
      "   @ Main ./In[5]:6",
      " [3] plot1DBands",
      "   @ ./In[5]:2 [inlined]",
      " [4] getBands(system::DWLattice, NNs::Int64, broadening::Bool)",
      "   @ Main ./In[5]:39",
      " [5] top-level scope",
      "   @ In[9]:1"
     ]
    }
   ],
   "source": [
    "getBands(AFM2R_lattice,200,true)"
   ]
  },
  {
   "cell_type": "code",
   "execution_count": 10,
   "id": "fcf2d5d5",
   "metadata": {},
   "outputs": [
    {
     "ename": "LoadError",
     "evalue": "MethodError: no method matching +(::Float64, ::Base.RefValue{Float64})\n\n\u001b[0mClosest candidates are:\n\u001b[0m  +(::Any, ::Any, \u001b[91m::Any\u001b[39m, \u001b[91m::Any...\u001b[39m)\n\u001b[0m\u001b[90m   @\u001b[39m \u001b[90mBase\u001b[39m \u001b[90m\u001b[4moperators.jl:578\u001b[24m\u001b[39m\n\u001b[0m  +(::T, \u001b[91m::T\u001b[39m) where T<:Union{Float16, Float32, Float64}\n\u001b[0m\u001b[90m   @\u001b[39m \u001b[90mBase\u001b[39m \u001b[90m\u001b[4mfloat.jl:408\u001b[24m\u001b[39m\n\u001b[0m  +(::Union{Float16, Float32, Float64}, \u001b[91m::BigFloat\u001b[39m)\n\u001b[0m\u001b[90m   @\u001b[39m \u001b[90mBase\u001b[39m \u001b[90m\u001b[4mmpfr.jl:423\u001b[24m\u001b[39m\n\u001b[0m  ...\n",
     "output_type": "error",
     "traceback": [
      "MethodError: no method matching +(::Float64, ::Base.RefValue{Float64})\n\n\u001b[0mClosest candidates are:\n\u001b[0m  +(::Any, ::Any, \u001b[91m::Any\u001b[39m, \u001b[91m::Any...\u001b[39m)\n\u001b[0m\u001b[90m   @\u001b[39m \u001b[90mBase\u001b[39m \u001b[90m\u001b[4moperators.jl:578\u001b[24m\u001b[39m\n\u001b[0m  +(::T, \u001b[91m::T\u001b[39m) where T<:Union{Float16, Float32, Float64}\n\u001b[0m\u001b[90m   @\u001b[39m \u001b[90mBase\u001b[39m \u001b[90m\u001b[4mfloat.jl:408\u001b[24m\u001b[39m\n\u001b[0m  +(::Union{Float16, Float32, Float64}, \u001b[91m::BigFloat\u001b[39m)\n\u001b[0m\u001b[90m   @\u001b[39m \u001b[90mBase\u001b[39m \u001b[90m\u001b[4mmpfr.jl:423\u001b[24m\u001b[39m\n\u001b[0m  ...\n",
      "",
      "Stacktrace:",
      " [1] (::var\"#H#4\"{DWLattice, Int64})(k::Float64)",
      "   @ Main ./In[3]:26",
      " [2] plot1DBands(H::var\"#H#4\"{DWLattice, Int64}, system::DWLattice, nk::Int64, Broadening::Bool, nE::Int64, DOS::Bool)",
      "   @ Main ./In[5]:6",
      " [3] plot1DBands",
      "   @ ./In[5]:2 [inlined]",
      " [4] getBands(system::DWLattice, NNs::Int64, broadening::Bool)",
      "   @ Main ./In[5]:39",
      " [5] top-level scope",
      "   @ In[10]:1"
     ]
    }
   ],
   "source": [
    "getBands(FM1R_lattice,2000,true)"
   ]
  },
  {
   "cell_type": "code",
   "execution_count": 11,
   "id": "8c3efb91",
   "metadata": {},
   "outputs": [
    {
     "ename": "LoadError",
     "evalue": "MethodError: no method matching +(::Float64, ::Base.RefValue{Float64})\n\n\u001b[0mClosest candidates are:\n\u001b[0m  +(::Any, ::Any, \u001b[91m::Any\u001b[39m, \u001b[91m::Any...\u001b[39m)\n\u001b[0m\u001b[90m   @\u001b[39m \u001b[90mBase\u001b[39m \u001b[90m\u001b[4moperators.jl:578\u001b[24m\u001b[39m\n\u001b[0m  +(::T, \u001b[91m::T\u001b[39m) where T<:Union{Float16, Float32, Float64}\n\u001b[0m\u001b[90m   @\u001b[39m \u001b[90mBase\u001b[39m \u001b[90m\u001b[4mfloat.jl:408\u001b[24m\u001b[39m\n\u001b[0m  +(::Union{Float16, Float32, Float64}, \u001b[91m::BigFloat\u001b[39m)\n\u001b[0m\u001b[90m   @\u001b[39m \u001b[90mBase\u001b[39m \u001b[90m\u001b[4mmpfr.jl:423\u001b[24m\u001b[39m\n\u001b[0m  ...\n",
     "output_type": "error",
     "traceback": [
      "MethodError: no method matching +(::Float64, ::Base.RefValue{Float64})\n\n\u001b[0mClosest candidates are:\n\u001b[0m  +(::Any, ::Any, \u001b[91m::Any\u001b[39m, \u001b[91m::Any...\u001b[39m)\n\u001b[0m\u001b[90m   @\u001b[39m \u001b[90mBase\u001b[39m \u001b[90m\u001b[4moperators.jl:578\u001b[24m\u001b[39m\n\u001b[0m  +(::T, \u001b[91m::T\u001b[39m) where T<:Union{Float16, Float32, Float64}\n\u001b[0m\u001b[90m   @\u001b[39m \u001b[90mBase\u001b[39m \u001b[90m\u001b[4mfloat.jl:408\u001b[24m\u001b[39m\n\u001b[0m  +(::Union{Float16, Float32, Float64}, \u001b[91m::BigFloat\u001b[39m)\n\u001b[0m\u001b[90m   @\u001b[39m \u001b[90mBase\u001b[39m \u001b[90m\u001b[4mmpfr.jl:423\u001b[24m\u001b[39m\n\u001b[0m  ...\n",
      "",
      "Stacktrace:",
      " [1] (::var\"#H#4\"{DWLattice, Int64})(k::Float64)",
      "   @ Main ./In[3]:26",
      " [2] plot1DBands(H::var\"#H#4\"{DWLattice, Int64}, system::DWLattice, nk::Int64, Broadening::Bool, nE::Int64, DOS::Bool)",
      "   @ Main ./In[5]:6",
      " [3] plot1DBands",
      "   @ ./In[5]:2 [inlined]",
      " [4] getBands(system::DWLattice, NNs::Int64, broadening::Bool)",
      "   @ Main ./In[5]:39",
      " [5] top-level scope",
      "   @ In[11]:1"
     ]
    }
   ],
   "source": [
    "getBands(AFM3R_lattice,50,true)\n",
    "#plot1DBands(H_AFM_racetrack,testSystem,500,false)\n",
    "#plot1DBands(H_AFM_racetrack,testSystem,500,true,500)"
   ]
  },
  {
   "cell_type": "code",
   "execution_count": 12,
   "id": "07e5fa5d",
   "metadata": {},
   "outputs": [
    {
     "ename": "LoadError",
     "evalue": "MethodError: no method matching +(::Float64, ::Base.RefValue{Float64})\n\n\u001b[0mClosest candidates are:\n\u001b[0m  +(::Any, ::Any, \u001b[91m::Any\u001b[39m, \u001b[91m::Any...\u001b[39m)\n\u001b[0m\u001b[90m   @\u001b[39m \u001b[90mBase\u001b[39m \u001b[90m\u001b[4moperators.jl:578\u001b[24m\u001b[39m\n\u001b[0m  +(::T, \u001b[91m::T\u001b[39m) where T<:Union{Float16, Float32, Float64}\n\u001b[0m\u001b[90m   @\u001b[39m \u001b[90mBase\u001b[39m \u001b[90m\u001b[4mfloat.jl:408\u001b[24m\u001b[39m\n\u001b[0m  +(::Union{Float16, Float32, Float64}, \u001b[91m::BigFloat\u001b[39m)\n\u001b[0m\u001b[90m   @\u001b[39m \u001b[90mBase\u001b[39m \u001b[90m\u001b[4mmpfr.jl:423\u001b[24m\u001b[39m\n\u001b[0m  ...\n",
     "output_type": "error",
     "traceback": [
      "MethodError: no method matching +(::Float64, ::Base.RefValue{Float64})\n\n\u001b[0mClosest candidates are:\n\u001b[0m  +(::Any, ::Any, \u001b[91m::Any\u001b[39m, \u001b[91m::Any...\u001b[39m)\n\u001b[0m\u001b[90m   @\u001b[39m \u001b[90mBase\u001b[39m \u001b[90m\u001b[4moperators.jl:578\u001b[24m\u001b[39m\n\u001b[0m  +(::T, \u001b[91m::T\u001b[39m) where T<:Union{Float16, Float32, Float64}\n\u001b[0m\u001b[90m   @\u001b[39m \u001b[90mBase\u001b[39m \u001b[90m\u001b[4mfloat.jl:408\u001b[24m\u001b[39m\n\u001b[0m  +(::Union{Float16, Float32, Float64}, \u001b[91m::BigFloat\u001b[39m)\n\u001b[0m\u001b[90m   @\u001b[39m \u001b[90mBase\u001b[39m \u001b[90m\u001b[4mmpfr.jl:423\u001b[24m\u001b[39m\n\u001b[0m  ...\n",
      "",
      "Stacktrace:",
      " [1] (::var\"#H#4\"{DWLattice, Int64})(k::Float64)",
      "   @ Main ./In[3]:26",
      " [2] plot1DBands(H::var\"#H#4\"{DWLattice, Int64}, system::DWLattice, nk::Int64, Broadening::Bool, nE::Int64, DOS::Bool)",
      "   @ Main ./In[5]:6",
      " [3] plot1DBands",
      "   @ ./In[5]:2 [inlined]",
      " [4] getBands",
      "   @ ./In[5]:39 [inlined]",
      " [5] macro expansion",
      "   @ ./In[12]:4 [inlined]",
      " [6] top-level scope",
      "   @ ~/.julia/packages/Plots/QWCV6/src/animation.jl:251"
     ]
    }
   ],
   "source": [
    "pinningSweep = @animate for ω₀ in 5*collect(sin.(LinRange(0,π,100)))\n",
    "    AFM3R_lattice = init(racetrack_positions=[0, 2.8, 5.0]*μm, orientations=[1,-1,1], \n",
    "    a=7.5*μm, γ=0.7*[1,0.5,1]*GHz, ω₀=10*[ω₀,2.0,2.1]*GHz, PBC=true, C=400.0*GHz, R₀=2.5*μm);\n",
    "    getBands(AFM3R_lattice,50,true);\n",
    "end"
   ]
  },
  {
   "cell_type": "code",
   "execution_count": 13,
   "id": "910d1b53",
   "metadata": {},
   "outputs": [
    {
     "ename": "LoadError",
     "evalue": "UndefVarError: `pinningSweep` not defined",
     "output_type": "error",
     "traceback": [
      "UndefVarError: `pinningSweep` not defined",
      "",
      "Stacktrace:",
      " [1] top-level scope",
      "   @ In[13]:1"
     ]
    }
   ],
   "source": [
    "gif(pinningSweep, \"anim_fps15.gif\", fps = 20)"
   ]
  }
 ],
 "metadata": {
  "kernelspec": {
   "display_name": "Julia 1.9.0",
   "language": "julia",
   "name": "julia-1.9"
  },
  "language_info": {
   "file_extension": ".jl",
   "mimetype": "application/julia",
   "name": "julia",
   "version": "1.9.0"
  }
 },
 "nbformat": 4,
 "nbformat_minor": 5
}
