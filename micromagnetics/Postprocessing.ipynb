{
 "cells": [
  {
   "cell_type": "code",
   "execution_count": 2,
   "metadata": {},
   "outputs": [],
   "source": [
    "import os\n",
    "os.environ['PATH'] += \":/content/mumax3.10\""
   ]
  },
  {
   "cell_type": "code",
   "execution_count": 29,
   "metadata": {},
   "outputs": [],
   "source": [
    "\n",
    "import numpy as np\n",
    "import matplotlib.pyplot as plt\n",
    "import pandas as pd\n",
    "from scipy.interpolate import Rbf"
   ]
  },
  {
   "cell_type": "code",
   "execution_count": 4,
   "metadata": {},
   "outputs": [],
   "source": [
    "def read_mumax3_table(filename):\n",
    "    \"\"\"Puts the mumax3 output table in a pandas dataframe\"\"\"\n",
    "\n",
    "    from pandas import read_table\n",
    "    \n",
    "    table = read_table(filename)\n",
    "    table.columns = ' '.join(table.columns).split()[1::2]\n",
    "    \n",
    "    return table"
   ]
  },
  {
   "cell_type": "code",
   "execution_count": 5,
   "metadata": {},
   "outputs": [],
   "source": [
    "def read_mumax3_ovffiles(outputdir):\n",
    "    \"\"\"Load all ovffiles in outputdir into a dictionary of numpy arrays \n",
    "    with the ovffilename (without extension) as key\"\"\"\n",
    "    \n",
    "    from subprocess import run, PIPE, STDOUT\n",
    "    from glob import glob\n",
    "    from os import path\n",
    "    from numpy import load\n",
    "\n",
    "    # convert all ovf files in the output directory to numpy files\n",
    "    p = run([\"mumax3-convert\",\"-numpy\",outputdir+\"/*.ovf\"], stdout=PIPE, stderr=STDOUT)\n",
    "    if p.returncode != 0:\n",
    "        print(p.stdout.decode('UTF-8'))\n",
    "\n",
    "    # read the numpy files (the converted ovf files)\n",
    "    fields = {}\n",
    "    for npyfile in glob(outputdir+\"/*.npy\"):\n",
    "        key = path.splitext(path.basename(npyfile))[0]\n",
    "        fields[key] = load(npyfile)\n",
    "    \n",
    "    return fields"
   ]
  },
  {
   "cell_type": "code",
   "execution_count": 6,
   "metadata": {},
   "outputs": [],
   "source": [
    "def run_mumax3(script, name, verbose=False):\n",
    "    \"\"\" Executes a mumax3 script and convert ovf files to numpy files\n",
    "    \n",
    "    Parameters\n",
    "    ----------\n",
    "      script:  string containing the mumax3 input script\n",
    "      name:    name of the simulation (this will be the name of the script and output dir)\n",
    "      verbose: print stdout of mumax3 when it is finished\n",
    "    \"\"\"\n",
    "    \n",
    "    from subprocess import run, PIPE, STDOUT\n",
    "    from os import path\n",
    "\n",
    "    scriptfile = name + \".txt\" \n",
    "    outputdir  = name + \".out\"\n",
    "\n",
    "    # write the input script in scriptfile\n",
    "    with open(scriptfile, 'w' ) as f:\n",
    "        f.write(script)\n",
    "    \n",
    "    # call mumax3 to execute this script\n",
    "    p = run([\"mumax3\",\"-f\",scriptfile], stdout=PIPE, stderr=STDOUT)\n",
    "    if verbose or p.returncode != 0:\n",
    "        print(p.stdout.decode('UTF-8'))\n",
    "        \n",
    "    if path.exists(outputdir + \"/table.txt\"):\n",
    "        table = read_mumax3_table(outputdir + \"/table.txt\")\n",
    "    else:\n",
    "        table = None\n",
    "        \n",
    "    fields = read_mumax3_ovffiles(outputdir)\n",
    "    \n",
    "    return table, fields"
   ]
  },
  {
   "cell_type": "code",
   "execution_count": 7,
   "metadata": {},
   "outputs": [],
   "source": [
    "script=\"\"\"\n",
    "T_final := 20e-9\n",
    "fmax := 0.5e9\n",
    "\n",
    "// Racetrack crystal settings:\n",
    "length := 200e-9\n",
    "width := 25e-9\n",
    "delta := 100e-9\n",
    "lattice_constant := 200e-9\n",
    "N_unitcells := 8\n",
    "Nx := 64\n",
    "Ny := 512\n",
    "Nz := 1\n",
    "Lx := length\n",
    "Ly := N_unitcells * lattice_constant\n",
    "dX := length / Nx\n",
    "dY := Ly / Ny\n",
    "dZ := 1e-9 / Nz\n",
    "\n",
    "setGridSize(Nx, Ny, Nz)\n",
    "setCellSize(dX, dY, dZ)\n",
    "\n",
    "// Material Constants\n",
    "Bz := 0.05\n",
    "Msat = 1250e3\n",
    "Aex = 10e-12\n",
    "anisU = vector(0, 0, 1)\n",
    "Ku1 = 1.5e6\n",
    "alpha = 0.1\n",
    "Xi = 0.2\n",
    "pinning := false\n",
    "\n",
    "two_racetrack := rect(length, delta+width)\n",
    "racetrack := rect(length, width)\n",
    "\n",
    "gap := delta - width\n",
    "\n",
    "singleR := racetrack.repeat(0, lattice_constant, 0).transl(0, width/2, 0)\n",
    "twoR := singleR.add(singleR.transl(0, delta, 0))\n",
    "\n",
    "setgeom(twoR)\n",
    "\n",
    "// Define regions\n",
    "defRegion(1, singleR)\n",
    "defRegion(2, singleR.transl(0, delta, 0))\n",
    "defRegion(3, racetrack.transl(0, -Ly/2+width/2, 0))\n",
    "save(regions)\n",
    "\n",
    "B_ext.setregion(3, vector(0, 0, Bz*sinc(2*pi*fmax*(t-T_final/2))))\n",
    "\n",
    "m.setRegion(1, twoDomain(0, 0, 1, 1, 1, 0, 0, 0, -1))\n",
    "m.setRegion(2, twoDomain(0, 0, -1, 1, 1, 0, 0, 0, 1))\n",
    "m.setRegion(3, twoDomain(0, 0, 1, 1, 1, 0, 0, 0, -1))\n",
    "relax()\n",
    "\n",
    "// Schedule output & save results\n",
    "autosave(m, 100e-12)\n",
    "tableadd(e_total)\n",
    "tableautosave(10e-12)\n",
    "\n",
    "// Run for 1ns with current through the sample\n",
    "temp.set(1)\n",
    "j = vector(0, 0, 0)\n",
    "pol = 1\n",
    "run(T_final)\n",
    "\"\"\""
   ]
  },
  {
   "cell_type": "code",
   "execution_count": 8,
   "metadata": {},
   "outputs": [],
   "source": [
    "table, fields = run_mumax3( script, name=\"DW_Lattice\", verbose=False )"
   ]
  },
  {
   "cell_type": "code",
   "execution_count": 9,
   "metadata": {},
   "outputs": [
    {
     "name": "stdout",
     "output_type": "stream",
     "text": [
      "                 t        mx        my            mz       E_total\n",
      "0     0.000000e+00  0.000058  0.053710 -3.539026e-08 -4.336963e-17\n",
      "1     1.013081e-11  0.000220  0.053944  6.530434e-06 -4.316072e-17\n",
      "2     2.032256e-11 -0.000492  0.053491 -3.940938e-05 -4.324261e-17\n",
      "3     3.017442e-11  0.000078  0.053220 -1.554517e-05 -4.315339e-17\n",
      "4     4.007447e-11  0.000208  0.053877 -7.374678e-06 -4.308781e-17\n",
      "...            ...       ...       ...           ...           ...\n",
      "1996  1.996006e-08  0.001857  0.047303  1.833903e-03 -4.305539e-17\n",
      "1997  1.997014e-08  0.001778  0.046191  1.858743e-03 -4.304736e-17\n",
      "1998  1.998011e-08  0.002637  0.046242  1.802212e-03 -4.315924e-17\n",
      "1999  1.999003e-08  0.002396  0.047157  1.850562e-03 -4.295779e-17\n",
      "2000  2.000000e-08  0.001460  0.046918  1.886700e-03 -4.301697e-17\n",
      "\n",
      "[2001 rows x 5 columns]\n"
     ]
    },
    {
     "data": {
      "image/png": "[encoded data removed]",
      "text/plain": [
       "<Figure size 640x480 with 1 Axes>"
      ]
     },
     "metadata": {},
     "output_type": "display_data"
    }
   ],
   "source": [
    "print(table)\n",
    "\n",
    "plt.figure()\n",
    "\n",
    "nanosecond = 1e-9\n",
    "plt.plot( table[\"t\"]/nanosecond, table[\"mx\"], color='red')\n",
    "plt.plot( table[\"t\"]/nanosecond, table[\"my\"], color='blue')\n",
    "plt.plot( table[\"t\"]/nanosecond, table[\"mz\"], color='green')\n",
    "\n",
    "plt.xlabel(\"Time (ns)\")\n",
    "plt.ylabel(\"Magnetization\")\n",
    "\n",
    "plt.show()"
   ]
  },
  {
   "cell_type": "code",
   "execution_count": 10,
   "metadata": {},
   "outputs": [
    {
     "name": "stdout",
     "output_type": "stream",
     "text": [
      "dict_keys(['m000031', 'm000083', 'm000029', 'm000094', 'm000176', 'm000129', 'm000153', 'm000033', 'm000130', 'm000089', 'm000143', 'm000053', 'm000050', 'm000082', 'm000171', 'm000166', 'm000032', 'm000068', 'm000100', 'm000008', 'm000164', 'm000048', 'm000072', 'm000085', 'm000076', 'm000119', 'm000159', 'm000113', 'm000179', 'm000044', 'm000128', 'm000084', 'm000135', 'm000104', 'm000030', 'm000063', 'm000180', 'm000122', 'm000158', 'm000192', 'm000168', 'm000193', 'm000131', 'm000132', 'm000049', 'm000057', 'm000015', 'm000173', 'm000037', 'm000127', 'm000077', 'm000123', 'm000150', 'm000163', 'm000185', 'm000103', 'm000188', 'm000145', 'm000157', 'm000042', 'm000066', 'm000080', 'm000183', 'm000160', 'm000118', 'm000028', 'm000016', 'm000147', 'm000056', 'm000017', 'm000148', 'm000006', 'm000078', 'm000190', 'm000120', 'm000002', 'm000021', 'm000184', 'm000034', 'm000115', 'm000070', 'm000055', 'm000043', 'm000014', 'm000092', 'm000112', 'm000069', 'm000121', 'm000200', 'm000108', 'm000161', 'm000133', 'm000138', 'm000047', 'm000117', 'm000090', 'm000175', 'm000197', 'm000004', 'm000038', 'm000095', 'm000018', 'm000075', 'm000191', 'm000081', 'm000136', 'm000169', 'm000058', 'm000019', 'm000110', 'm000181', 'm000079', 'm000091', 'm000093', 'm000009', 'm000005', 'm000154', 'm000003', 'm000071', 'm000001', 'm000012', 'm000059', 'm000060', 'm000007', 'm000025', 'm000146', 'm000149', 'm000000', 'm000114', 'm000152', 'm000035', 'm000024', 'm000142', 'm000198', 'm000013', 'm000172', 'm000065', 'm000086', 'm000061', 'm000051', 'm000054', 'm000011', 'm000151', 'm000134', 'm000064', 'm000040', 'm000027', 'regions000000', 'm000041', 'm000036', 'm000039', 'm000106', 'm000167', 'm000139', 'm000140', 'm000125', 'm000187', 'm000137', 'm000170', 'm000099', 'm000194', 'm000052', 'm000189', 'm000141', 'm000087', 'm000124', 'm000045', 'm000177', 'm000073', 'm000116', 'm000062', 'm000097', 'm000074', 'm000182', 'm000162', 'm000105', 'm000010', 'm000096', 'm000098', 'm000026', 'm000102', 'm000067', 'm000174', 'm000023', 'm000178', 'm000156', 'm000126', 'm000165', 'm000109', 'm000101', 'm000196', 'm000155', 'm000195', 'm000111', 'm000020', 'm000088', 'm000186', 'm000022', 'm000107', 'm000199', 'm000144', 'm000046'])\n"
     ]
    }
   ],
   "source": [
    "print(fields.keys())"
   ]
  },
  {
   "cell_type": "code",
   "execution_count": 15,
   "metadata": {},
   "outputs": [
    {
     "name": "stdout",
     "output_type": "stream",
     "text": [
      "type  = <class 'numpy.ndarray'>\n",
      "shape = (3, 1, 512, 64)\n",
      "(512, 64)\n"
     ]
    }
   ],
   "source": [
    "# First field\n",
    "# 4D numpy array: m[ic, iz, iy, ix]\n",
    "# ic: index for the magnetization component (X=0, Y=1, Z=2)\n",
    "m = fields[\"m000000\"]\n",
    "\n",
    "print(\"type  =\", type(m))\n",
    "print(\"shape =\", m.shape)"
   ]
  },
  {
   "cell_type": "code",
   "execution_count": 39,
   "metadata": {},
   "outputs": [
    {
     "data": {
      "image/png": "[encoded data removed]",
      "text/plain": [
       "<Figure size 640x480 with 1 Axes>"
      ]
     },
     "metadata": {},
     "output_type": "display_data"
    }
   ],
   "source": [
    "# intensity plot of the absolute value (mz)\n",
    "def show_abs_my(m):\n",
    "    my_abs = m[2,0,:,:]\n",
    "    plt.figure()\n",
    "    plt.imshow(my_abs, vmin=-1, vmax=1, cmap=\"coolwarm\")\n",
    "    plt.show()\n",
    "\n",
    "show_abs_my(fields[\"m000199\"])"
   ]
  },
  {
   "cell_type": "code",
   "execution_count": 40,
   "metadata": {},
   "outputs": [],
   "source": [
    "'''\n",
    "Return the value of DW position in a cell.\n",
    "(By finding a point where mz == 0)\n",
    "'''\n",
    "def bisect(f, x_lo, x_hi, n):\n",
    "    # midpoint\n",
    "    x_o = (x_lo + x_hi) / 2.0\n",
    "    # base case, run enough to converge.\n",
    "    if n == 0:\n",
    "        return x_o\n",
    "    # base case, at x_o is 0\n",
    "    if f(x_o) == 0:\n",
    "        return x_o\n",
    "    \n",
    "    # ascending (-1 --> 1)\n",
    "    if f(x_lo) < f(x_hi):\n",
    "        if f(x_o) > 0:\n",
    "            x_o = bisect(f, x_lo, x_o, n-1)\n",
    "        else:\n",
    "            x_o = bisect(f, x_o, x_hi, n-1)\n",
    "    # descending (1 --> -1)\n",
    "    else:\n",
    "        if f(x_o) < 0:\n",
    "            x_o = bisect(f, x_lo, x_o, n-1)\n",
    "        else:\n",
    "            x_o = bisect(f, x_o, x_hi, n-1)\n",
    "    return x_o\n"
   ]
  },
  {
   "cell_type": "code",
   "execution_count": 49,
   "metadata": {},
   "outputs": [
    {
     "name": "stdout",
     "output_type": "stream",
     "text": [
      "[32.49365234375, 31.465087890625, 31.493896484375, 31.520263671875, 31.472412109375, 31.476318359375, 31.52685546875, 31.515380859375, 31.4970703125, 31.4833984375, 31.489990234375, 31.498291015625, 31.50732421875, 31.541015625, 31.52294921875, 31.5244140625]\n"
     ]
    },
    {
     "ename": "TypeError",
     "evalue": "'dict' object is not callable",
     "output_type": "error",
     "traceback": [
      "\u001b[0;31m---------------------------------------------------------------------------\u001b[0m",
      "\u001b[0;31mTypeError\u001b[0m                                 Traceback (most recent call last)",
      "Cell \u001b[0;32mIn[49], line 3\u001b[0m\n\u001b[1;32m      1\u001b[0m \u001b[39m# DW Positions in .ovf\u001b[39;00m\n\u001b[1;32m      2\u001b[0m \u001b[39mprint\u001b[39m(findDW(fields[\u001b[39m\"\u001b[39m\u001b[39mm000199\u001b[39m\u001b[39m\"\u001b[39m]))\n\u001b[0;32m----> 3\u001b[0m \u001b[39mprint\u001b[39m(\u001b[39mtype\u001b[39m[findDW(fields(\u001b[39m\"\u001b[39;49m\u001b[39mm000199\u001b[39;49m\u001b[39m\"\u001b[39;49m))])\n",
      "\u001b[0;31mTypeError\u001b[0m: 'dict' object is not callable"
     ]
    }
   ],
   "source": [
    "# DW Positions in .ovf\n",
    "print(findDW(fields[\"m000199\"]))"
   ]
  }
 ],
 "metadata": {
  "kernelspec": {
   "display_name": "Python 3",
   "language": "python",
   "name": "python3"
  },
  "language_info": {
   "codemirror_mode": {
    "name": "ipython",
    "version": 3
   },
   "file_extension": ".py",
   "mimetype": "text/x-python",
   "name": "python",
   "nbconvert_exporter": "python",
   "pygments_lexer": "ipython3",
   "version": "3.10.6"
  },
  "orig_nbformat": 4
 },
 "nbformat": 4,
 "nbformat_minor": 2
}
